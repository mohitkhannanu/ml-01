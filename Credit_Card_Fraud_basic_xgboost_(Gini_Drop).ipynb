{
  "nbformat": 4,
  "nbformat_minor": 0,
  "metadata": {
    "colab": {
      "name": "Credit_Card_Fraud_basic_xgboost (Gini Drop).ipynb",
      "provenance": [],
      "collapsed_sections": [],
      "authorship_tag": "ABX9TyMftt0BBumK+yk6M7P1AU1d",
      "include_colab_link": true
    },
    "kernelspec": {
      "name": "python3",
      "display_name": "Python 3"
    }
  },
  "cells": [
    {
      "cell_type": "markdown",
      "metadata": {
        "id": "view-in-github",
        "colab_type": "text"
      },
      "source": [
        "<a href=\"https://colab.research.google.com/github/mohitkhannanu/ml-01/blob/master/Credit_Card_Fraud_basic_xgboost_(Gini_Drop).ipynb\" target=\"_parent\"><img src=\"https://colab.research.google.com/assets/colab-badge.svg\" alt=\"Open In Colab\"/></a>"
      ]
    },
    {
      "cell_type": "code",
      "metadata": {
        "id": "zcfdShwFFBRV",
        "colab_type": "code",
        "colab": {}
      },
      "source": [
        "# Importing Libraries\n",
        "import pandas as pd\n",
        "import numpy as np\n",
        "from xgboost import XGBClassifier\n",
        "from sklearn.model_selection import train_test_split\n",
        "from sklearn.metrics import accuracy_score\n",
        "from sklearn import metrics\n",
        "from sklearn.model_selection import GridSearchCV\n",
        "from datetime import datetime"
      ],
      "execution_count": 8,
      "outputs": []
    },
    {
      "cell_type": "code",
      "metadata": {
        "id": "GVDH3egiEE1E",
        "colab_type": "code",
        "colab": {}
      },
      "source": [
        "# Loading Dataset\n",
        "data = pd.read_csv('https://storage.googleapis.com/download.tensorflow.org/data/creditcard.csv')"
      ],
      "execution_count": 9,
      "outputs": []
    },
    {
      "cell_type": "code",
      "metadata": {
        "id": "BaFqnztAELyn",
        "colab_type": "code",
        "colab": {}
      },
      "source": [
        "# split data into X and y\n",
        "X = data.iloc[:,1:29]\n",
        "Y_cont = data.iloc[:,29]\n",
        "Y_class = data.iloc[:,30]"
      ],
      "execution_count": 10,
      "outputs": []
    },
    {
      "cell_type": "code",
      "metadata": {
        "id": "WwiYcCqaHn7-",
        "colab_type": "code",
        "colab": {}
      },
      "source": [
        "# create 3 datasets - In Sample, Hold out, Validation data\n",
        "# 70%, 15%, 15%\n",
        "# In Sample\n",
        "\n",
        "X_train, X_2, Y_cont_train, Y_cont_2, Y_class_train, Y_class_2 = train_test_split(X, Y_cont, Y_class, test_size=0.3, random_state=7)\n",
        "\n",
        "#X_train.shape #(199364, 28)\n",
        "#X_2.shape #(85443, 28)\n",
        "#Y_cont_train.shape #(199364,)\n",
        "#Y_cont_2.shape #(85443,)\n",
        "#Y_class_train.shape #(199364, 28)\n",
        "#Y_class_2.shape #(85443,)\n",
        "\n",
        "X_hold_out, X_val, Y_cont_hold_out, Y_cont_val, Y_class_hold_out, Y_class_val = train_test_split(X_2, Y_cont_2, Y_class_2, test_size=0.5, random_state=7)\n",
        "\n",
        "#X_hold_out.shape #(42721, 28)\n",
        "#X_val.shape #(42722, 28)\n",
        "#Y_cont_hold_out.shape #(42721,)\n",
        "#Y_cont_val.shape #(42722,)\n",
        "#Y_class_hold_out.shape #(42721, 28)\n",
        "#Y_class_val.shape #(42722,)"
      ],
      "execution_count": 11,
      "outputs": []
    },
    {
      "cell_type": "code",
      "metadata": {
        "id": "cY_izp8Ltyka",
        "colab_type": "code",
        "colab": {}
      },
      "source": [
        "# Gini definition\n",
        "def gini(actual, pred):\n",
        "    assert (len(actual) == len(pred))\n",
        "    all = np.asarray(np.c_[actual, pred, np.arange(len(actual))], dtype=np.float)\n",
        "    all = all[np.lexsort((all[:, 2], -1 * all[:, 1]))]\n",
        "    totalLosses = all[:, 0].sum()\n",
        "    giniSum = all[:, 0].cumsum().sum() / totalLosses\n",
        "\n",
        "    giniSum -= (len(actual) + 1) / 2.\n",
        "    return giniSum / len(actual)\n",
        "\n",
        "\n",
        "def gini_normalized(actual, pred):\n",
        "    return gini(actual, pred) / gini(actual, actual)"
      ],
      "execution_count": 13,
      "outputs": []
    },
    {
      "cell_type": "code",
      "metadata": {
        "id": "NBmTz6nLKdJ8",
        "colab_type": "code",
        "colab": {
          "base_uri": "https://localhost:8080/",
          "height": 134
        },
        "outputId": "bf9bbc20-39ad-4026-bfc6-38bbedf4f68d"
      },
      "source": [
        "# Parameter fine Tuning\n",
        "starttime = datetime.now()\n",
        "model = XGBClassifier()\n",
        "\n",
        "param_dist = {\"max_depth\": [2],\n",
        "              #\"min_child_weight\" : [1,3,6],\n",
        "              \"learning_rate\": [0.05, 0.1],\n",
        "              \"n_estimators\": [100,200]\n",
        "              #\"reg_lambda\": [1,5,10],\n",
        "              }           \n",
        "gini_scorer = metrics.make_scorer(gini_normalized, greater_is_better = True)\n",
        "grid_search = GridSearchCV(scoring = gini_scorer, estimator = model, param_grid=param_dist, cv = 3, \n",
        "                                   verbose=10, n_jobs=-1, return_train_score=True)\n",
        "grid_search.fit(X_hold_out, Y_class_hold_out)\n",
        "grid_search.best_estimator_\n",
        "\n",
        "print(datetime.now() - starttime) #0:08:33.140362"
      ],
      "execution_count": 28,
      "outputs": [
        {
          "output_type": "stream",
          "text": [
            "Fitting 3 folds for each of 4 candidates, totalling 12 fits\n"
          ],
          "name": "stdout"
        },
        {
          "output_type": "stream",
          "text": [
            "[Parallel(n_jobs=-1)]: Using backend LokyBackend with 2 concurrent workers.\n",
            "[Parallel(n_jobs=-1)]: Done   1 tasks      | elapsed:    7.9s\n",
            "[Parallel(n_jobs=-1)]: Done   4 tasks      | elapsed:   20.9s\n",
            "[Parallel(n_jobs=-1)]: Done   9 tasks      | elapsed:   41.6s\n",
            "[Parallel(n_jobs=-1)]: Done  12 out of  12 | elapsed:  1.0min finished\n"
          ],
          "name": "stderr"
        },
        {
          "output_type": "stream",
          "text": [
            "0:01:12.552378\n"
          ],
          "name": "stdout"
        }
      ]
    },
    {
      "cell_type": "code",
      "metadata": {
        "id": "eIVyia0h0pby",
        "colab_type": "code",
        "colab": {
          "base_uri": "https://localhost:8080/",
          "height": 101
        },
        "outputId": "829d9292-7867-495e-a6c1-9c659c0d3ea7"
      },
      "source": [
        "print(\"Grid scores on development set:\")\n",
        "means = grid_search.cv_results_['mean_train_score']\n",
        "stds = grid_search.cv_results_['std_train_score']\n",
        "for mean, std, params in zip(means, stds, grid_search.cv_results_['params']):\n",
        "  print(\"%0.3f (+/-%0.03f) for %r\"\n",
        "  % (mean, std * 2, params))"
      ],
      "execution_count": 30,
      "outputs": [
        {
          "output_type": "stream",
          "text": [
            "Grid scores on development set:\n",
            "0.861 (+/-0.027) for {'learning_rate': 0.05, 'max_depth': 2, 'n_estimators': 100}\n",
            "0.866 (+/-0.018) for {'learning_rate': 0.05, 'max_depth': 2, 'n_estimators': 200}\n",
            "0.866 (+/-0.018) for {'learning_rate': 0.1, 'max_depth': 2, 'n_estimators': 100}\n",
            "0.971 (+/-0.004) for {'learning_rate': 0.1, 'max_depth': 2, 'n_estimators': 200}\n"
          ],
          "name": "stdout"
        }
      ]
    },
    {
      "cell_type": "code",
      "metadata": {
        "id": "vtrGVSJP2AlN",
        "colab_type": "code",
        "colab": {
          "base_uri": "https://localhost:8080/",
          "height": 205
        },
        "outputId": "c1c72f81-8fe9-42cb-a89a-f0a82a5eae3c"
      },
      "source": [
        "grid_search.cv_results_.items()"
      ],
      "execution_count": 27,
      "outputs": [
        {
          "output_type": "execute_result",
          "data": {
            "text/plain": [
              "dict_items([('mean_fit_time', array([ 6.4286619 , 12.63631312,  6.37223172, 10.50976713])), ('std_fit_time', array([0.03707264, 0.10350583, 0.01521197, 2.323019  ])), ('mean_score_time', array([0.04589105, 0.07934014, 0.04344487, 0.08034452])), ('std_score_time', array([0.00407202, 0.01348259, 0.00303492, 0.01297646])), ('param_learning_rate', masked_array(data=[0.05, 0.05, 0.1, 0.1],\n",
              "             mask=[False, False, False, False],\n",
              "       fill_value='?',\n",
              "            dtype=object)), ('param_max_depth', masked_array(data=[2, 2, 2, 2],\n",
              "             mask=[False, False, False, False],\n",
              "       fill_value='?',\n",
              "            dtype=object)), ('param_n_estimators', masked_array(data=[100, 200, 100, 200],\n",
              "             mask=[False, False, False, False],\n",
              "       fill_value='?',\n",
              "            dtype=object)), ('params', [{'learning_rate': 0.05, 'max_depth': 2, 'n_estimators': 100}, {'learning_rate': 0.05, 'max_depth': 2, 'n_estimators': 200}, {'learning_rate': 0.1, 'max_depth': 2, 'n_estimators': 100}, {'learning_rate': 0.1, 'max_depth': 2, 'n_estimators': 200}]), ('split0_test_score', array([0.68783337, 0.64026927, 0.64026927, 0.68793188])), ('split1_test_score', array([0.71384479, 0.77976749, 0.77966073, 0.77976749])), ('split2_test_score', array([0.83458661, 0.82836026, 0.83458661, 0.8346497 ])), ('mean_test_score', array([0.74542159, 0.74946567, 0.75150554, 0.76744969])), ('std_test_score', array([0.06393721, 0.0797212 , 0.08178974, 0.06052727])), ('rank_test_score', array([4, 3, 2, 1], dtype=int32))])"
            ]
          },
          "metadata": {
            "tags": []
          },
          "execution_count": 27
        }
      ]
    },
    {
      "cell_type": "code",
      "metadata": {
        "id": "fbG26LPONzM6",
        "colab_type": "code",
        "colab": {}
      },
      "source": [
        "#test accuracy\n",
        "model = XGBClassifier(base_score=0.5, booster='gbtree', colsample_bylevel=1,\n",
        "              colsample_bynode=1, colsample_bytree=1, gamma=0,\n",
        "              learning_rate=0.05, max_delta_step=0, max_depth=3,\n",
        "              min_child_weight=1, missing=None, n_estimators=100, n_jobs=1,\n",
        "              nthread=None, objective='binary:logistic', random_state=0,\n",
        "              reg_alpha=0, reg_lambda=1, scale_pos_weight=1, seed=None,\n",
        "              silent=None, subsample=1, verbosity=1)\n",
        "model.fit(X_train, Y_class_train)"
      ],
      "execution_count": null,
      "outputs": []
    },
    {
      "cell_type": "code",
      "metadata": {
        "id": "GMYq7l62UJ_-",
        "colab_type": "code",
        "colab": {
          "base_uri": "https://localhost:8080/",
          "height": 34
        },
        "outputId": "5af441d9-508a-4418-925a-5c6c2ea8fc4d"
      },
      "source": [
        "# make predictions for test data\n",
        "#y_pred  = model.predict(X_val)\n",
        "#y_pred  = model.predict(X_hold_out)\n",
        "y_pred  = model.predict(X_train)\n",
        "predictions = [round(value) for value in y_pred]\n",
        "# evaluate predictions\n",
        "#accuracy = accuracy_score(Y_class_val, predictions)\n",
        "#accuracy = accuracy_score(Y_class_hold_out, predictions)\n",
        "accuracy = accuracy_score(Y_class_train, predictions)\n",
        "print(\"Accuracy: %.2f%%\" % (accuracy * 100.0))"
      ],
      "execution_count": null,
      "outputs": [
        {
          "output_type": "stream",
          "text": [
            "Accuracy: 99.96%\n"
          ],
          "name": "stdout"
        }
      ]
    },
    {
      "cell_type": "code",
      "metadata": {
        "id": "zG1LnspnXYLj",
        "colab_type": "code",
        "colab": {
          "base_uri": "https://localhost:8080/",
          "height": 34
        },
        "outputId": "e25c5afa-9b12-424f-b16c-7b134660598d"
      },
      "source": [
        "# Gini calculations\n",
        "#gini_predictions = gini(Y_class_val, predictions)\n",
        "#gini_max = gini(Y_class_val, Y_class_val)\n",
        "#ngini= gini_normalized(Y_class_val, predictions)\n",
        "\n",
        "#gini_predictions = gini(Y_class_hold_out, predictions)\n",
        "#gini_max = gini(Y_class_hold_out, Y_class_hold_out)\n",
        "#ngini= gini_normalized(Y_class_hold_out, predictions)\n",
        "\n",
        "gini_predictions = gini(Y_class_train, predictions)\n",
        "gini_max = gini(Y_class_train, Y_class_train)\n",
        "ngini= gini_normalized(Y_class_train, predictions)\n",
        "\n",
        "print('Gini: %.3f, Max. Gini: %.3f, Normalized Gini: %.3f' % (gini_predictions, gini_max, ngini))\n",
        "\n",
        "# In Sample------------------ 0.816\n",
        "# Hold Out------------------- 0.842\n",
        "# Val-------------------------0.783"
      ],
      "execution_count": null,
      "outputs": [
        {
          "output_type": "stream",
          "text": [
            "Gini: 0.407, Max. Gini: 0.499, Normalized Gini: 0.816\n"
          ],
          "name": "stdout"
        }
      ]
    },
    {
      "cell_type": "code",
      "metadata": {
        "id": "itGMlsMGbECF",
        "colab_type": "code",
        "colab": {
          "base_uri": "https://localhost:8080/",
          "height": 34
        },
        "outputId": "6317bf9b-880c-4626-d95e-1aca1eade535"
      },
      "source": [
        "# Gini Drop Hold Out to Val\n",
        "(0.783/0.842-1)*100"
      ],
      "execution_count": null,
      "outputs": [
        {
          "output_type": "execute_result",
          "data": {
            "text/plain": [
              "-7.007125890736332"
            ]
          },
          "metadata": {
            "tags": []
          },
          "execution_count": 72
        }
      ]
    }
  ]
}